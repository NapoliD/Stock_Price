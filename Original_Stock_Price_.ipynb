{
  "nbformat": 4,
  "nbformat_minor": 0,
  "metadata": {
    "colab": {
      "name": "Original Stock_Price_.ipynb",
      "provenance": [],
      "collapsed_sections": [],
      "authorship_tag": "ABX9TyPZ4S/ZTxd0vBfdYo3ku/9l",
      "include_colab_link": true
    },
    "kernelspec": {
      "name": "python3",
      "display_name": "Python 3"
    }
  },
  "cells": [
    {
      "cell_type": "markdown",
      "metadata": {
        "id": "view-in-github",
        "colab_type": "text"
      },
      "source": [
        "<a href=\"https://colab.research.google.com/github/NapoliD/Stock_Price/blob/master/Original_Stock_Price_.ipynb\" target=\"_parent\"><img src=\"https://colab.research.google.com/assets/colab-badge.svg\" alt=\"Open In Colab\"/></a>"
      ]
    },
    {
      "cell_type": "markdown",
      "metadata": {
        "id": "5IB4Xx3qI0bO",
        "colab_type": "text"
      },
      "source": [
        "https://medium.com/@randerson112358/stock-price-prediction-using-python-machine-learning-e82a039ac2bb"
      ]
    },
    {
      "cell_type": "markdown",
      "metadata": {
        "id": "C90o8wKrB0DC",
        "colab_type": "text"
      },
      "source": [
        "https://www.kaggle.com/mczielinski/bitcoin-historical-data"
      ]
    },
    {
      "cell_type": "markdown",
      "metadata": {
        "id": "ODkcdrBeI0Y8",
        "colab_type": "text"
      },
      "source": [
        ""
      ]
    },
    {
      "cell_type": "code",
      "metadata": {
        "id": "L4KP4l9czpMq",
        "colab_type": "code",
        "colab": {
          "base_uri": "https://localhost:8080/",
          "height": 121
        },
        "outputId": "c9b80747-337d-4efe-b81f-b0871b33f382"
      },
      "source": [
        "from google.colab import drive\n",
        "drive.mount('/content/drive/') "
      ],
      "execution_count": null,
      "outputs": [
        {
          "output_type": "stream",
          "text": [
            "Go to this URL in a browser: https://accounts.google.com/o/oauth2/auth?client_id=947318989803-6bn6qk8qdgf4n4g3pfee6491hc0brc4i.apps.googleusercontent.com&redirect_uri=urn%3aietf%3awg%3aoauth%3a2.0%3aoob&scope=email%20https%3a%2f%2fwww.googleapis.com%2fauth%2fdocs.test%20https%3a%2f%2fwww.googleapis.com%2fauth%2fdrive%20https%3a%2f%2fwww.googleapis.com%2fauth%2fdrive.photos.readonly%20https%3a%2f%2fwww.googleapis.com%2fauth%2fpeopleapi.readonly&response_type=code\n",
            "\n",
            "Enter your authorization code:\n",
            "··········\n",
            "Mounted at /content/drive/\n"
          ],
          "name": "stdout"
        }
      ]
    },
    {
      "cell_type": "code",
      "metadata": {
        "id": "mjT3qp75zpr4",
        "colab_type": "code",
        "colab": {}
      },
      "source": [
        "import os\n",
        "os.chdir('/content/drive/My Drive/GOOGLE_COLAB/Stock_Price/')"
      ],
      "execution_count": null,
      "outputs": []
    },
    {
      "cell_type": "code",
      "metadata": {
        "id": "YGHTbauxI0Gn",
        "colab_type": "code",
        "colab": {
          "base_uri": "https://localhost:8080/",
          "height": 70
        },
        "outputId": "cb453b7c-cc7f-44f6-f8a4-33ab50d9d5ab"
      },
      "source": [
        "#Import the libraries\n",
        "import math\n",
        "import pandas_datareader as web\n",
        "import numpy as np\n",
        "import pandas as pd\n",
        "from sklearn.preprocessing import MinMaxScaler\n",
        "from keras.models import Sequential\n",
        "from keras.layers import Dense, LSTM\n",
        "import matplotlib.pyplot as plt\n",
        "plt.style.use('fivethirtyeight')\n",
        "\n"
      ],
      "execution_count": 1,
      "outputs": [
        {
          "output_type": "stream",
          "text": [
            "/usr/local/lib/python3.6/dist-packages/pandas_datareader/compat/__init__.py:7: FutureWarning: pandas.util.testing is deprecated. Use the functions in the public API at pandas.testing instead.\n",
            "  from pandas.util.testing import assert_frame_equal\n"
          ],
          "name": "stderr"
        }
      ]
    },
    {
      "cell_type": "markdown",
      "metadata": {
        "id": "M66IGFYpKJsM",
        "colab_type": "text"
      },
      "source": [
        "Acciones grupo galicia"
      ]
    },
    {
      "cell_type": "code",
      "metadata": {
        "id": "XONXvyPrI0Df",
        "colab_type": "code",
        "colab": {}
      },
      "source": [
        "#df = web.DataReader('AAPL', data_source='yahoo', start='2012-01-01', end='2019-12-17')\n",
        "df = web.DataReader('GGAL.BA', data_source='yahoo', start='2020-04-01', end='2020-09-08')\n",
        "#df = web.DataReader('BTC-USD', data_source='yahoo', start='2019-01-01', end='2020-09-07')"
      ],
      "execution_count": 28,
      "outputs": []
    },
    {
      "cell_type": "code",
      "metadata": {
        "id": "aGIx9wIqy3fb",
        "colab_type": "code",
        "colab": {
          "base_uri": "https://localhost:8080/",
          "height": 431
        },
        "outputId": "a7273884-5e74-4335-d763-5f7e1a821f43"
      },
      "source": [
        "df\n"
      ],
      "execution_count": 29,
      "outputs": [
        {
          "output_type": "execute_result",
          "data": {
            "text/html": [
              "<div>\n",
              "<style scoped>\n",
              "    .dataframe tbody tr th:only-of-type {\n",
              "        vertical-align: middle;\n",
              "    }\n",
              "\n",
              "    .dataframe tbody tr th {\n",
              "        vertical-align: top;\n",
              "    }\n",
              "\n",
              "    .dataframe thead th {\n",
              "        text-align: right;\n",
              "    }\n",
              "</style>\n",
              "<table border=\"1\" class=\"dataframe\">\n",
              "  <thead>\n",
              "    <tr style=\"text-align: right;\">\n",
              "      <th></th>\n",
              "      <th>High</th>\n",
              "      <th>Low</th>\n",
              "      <th>Open</th>\n",
              "      <th>Close</th>\n",
              "      <th>Volume</th>\n",
              "      <th>Adj Close</th>\n",
              "    </tr>\n",
              "    <tr>\n",
              "      <th>Date</th>\n",
              "      <th></th>\n",
              "      <th></th>\n",
              "      <th></th>\n",
              "      <th></th>\n",
              "      <th></th>\n",
              "      <th></th>\n",
              "    </tr>\n",
              "  </thead>\n",
              "  <tbody>\n",
              "    <tr>\n",
              "      <th>2020-04-01</th>\n",
              "      <td>61.250000</td>\n",
              "      <td>59.700001</td>\n",
              "      <td>60.099998</td>\n",
              "      <td>60.150002</td>\n",
              "      <td>668231</td>\n",
              "      <td>60.150002</td>\n",
              "    </tr>\n",
              "    <tr>\n",
              "      <th>2020-04-02</th>\n",
              "      <td>64.500000</td>\n",
              "      <td>59.150002</td>\n",
              "      <td>59.650002</td>\n",
              "      <td>64.250000</td>\n",
              "      <td>2168156</td>\n",
              "      <td>64.250000</td>\n",
              "    </tr>\n",
              "    <tr>\n",
              "      <th>2020-04-03</th>\n",
              "      <td>65.300003</td>\n",
              "      <td>62.000000</td>\n",
              "      <td>64.000000</td>\n",
              "      <td>65.050003</td>\n",
              "      <td>1552567</td>\n",
              "      <td>65.050003</td>\n",
              "    </tr>\n",
              "    <tr>\n",
              "      <th>2020-04-06</th>\n",
              "      <td>65.300003</td>\n",
              "      <td>63.500000</td>\n",
              "      <td>63.599998</td>\n",
              "      <td>63.950001</td>\n",
              "      <td>1224565</td>\n",
              "      <td>63.950001</td>\n",
              "    </tr>\n",
              "    <tr>\n",
              "      <th>2020-04-07</th>\n",
              "      <td>67.300003</td>\n",
              "      <td>61.849998</td>\n",
              "      <td>66.150002</td>\n",
              "      <td>62.900002</td>\n",
              "      <td>2257214</td>\n",
              "      <td>62.900002</td>\n",
              "    </tr>\n",
              "    <tr>\n",
              "      <th>...</th>\n",
              "      <td>...</td>\n",
              "      <td>...</td>\n",
              "      <td>...</td>\n",
              "      <td>...</td>\n",
              "      <td>...</td>\n",
              "      <td>...</td>\n",
              "    </tr>\n",
              "    <tr>\n",
              "      <th>2020-09-02</th>\n",
              "      <td>129.699997</td>\n",
              "      <td>124.750000</td>\n",
              "      <td>129.500000</td>\n",
              "      <td>125.849998</td>\n",
              "      <td>3311816</td>\n",
              "      <td>125.849998</td>\n",
              "    </tr>\n",
              "    <tr>\n",
              "      <th>2020-09-03</th>\n",
              "      <td>130.000000</td>\n",
              "      <td>124.750000</td>\n",
              "      <td>128.800003</td>\n",
              "      <td>125.699997</td>\n",
              "      <td>1511932</td>\n",
              "      <td>125.699997</td>\n",
              "    </tr>\n",
              "    <tr>\n",
              "      <th>2020-09-04</th>\n",
              "      <td>128.000000</td>\n",
              "      <td>122.250000</td>\n",
              "      <td>125.449997</td>\n",
              "      <td>126.099998</td>\n",
              "      <td>1570749</td>\n",
              "      <td>126.099998</td>\n",
              "    </tr>\n",
              "    <tr>\n",
              "      <th>2020-09-07</th>\n",
              "      <td>130.100006</td>\n",
              "      <td>126.099998</td>\n",
              "      <td>126.099998</td>\n",
              "      <td>129.949997</td>\n",
              "      <td>801802</td>\n",
              "      <td>129.949997</td>\n",
              "    </tr>\n",
              "    <tr>\n",
              "      <th>2020-09-08</th>\n",
              "      <td>129.899994</td>\n",
              "      <td>123.900002</td>\n",
              "      <td>126.949997</td>\n",
              "      <td>128.100006</td>\n",
              "      <td>2097432</td>\n",
              "      <td>128.100006</td>\n",
              "    </tr>\n",
              "  </tbody>\n",
              "</table>\n",
              "<p>107 rows × 6 columns</p>\n",
              "</div>"
            ],
            "text/plain": [
              "                  High         Low        Open       Close   Volume   Adj Close\n",
              "Date                                                                           \n",
              "2020-04-01   61.250000   59.700001   60.099998   60.150002   668231   60.150002\n",
              "2020-04-02   64.500000   59.150002   59.650002   64.250000  2168156   64.250000\n",
              "2020-04-03   65.300003   62.000000   64.000000   65.050003  1552567   65.050003\n",
              "2020-04-06   65.300003   63.500000   63.599998   63.950001  1224565   63.950001\n",
              "2020-04-07   67.300003   61.849998   66.150002   62.900002  2257214   62.900002\n",
              "...                ...         ...         ...         ...      ...         ...\n",
              "2020-09-02  129.699997  124.750000  129.500000  125.849998  3311816  125.849998\n",
              "2020-09-03  130.000000  124.750000  128.800003  125.699997  1511932  125.699997\n",
              "2020-09-04  128.000000  122.250000  125.449997  126.099998  1570749  126.099998\n",
              "2020-09-07  130.100006  126.099998  126.099998  129.949997   801802  129.949997\n",
              "2020-09-08  129.899994  123.900002  126.949997  128.100006  2097432  128.100006\n",
              "\n",
              "[107 rows x 6 columns]"
            ]
          },
          "metadata": {
            "tags": []
          },
          "execution_count": 29
        }
      ]
    },
    {
      "cell_type": "code",
      "metadata": {
        "id": "BOA7tRiO2Zx7",
        "colab_type": "code",
        "colab": {}
      },
      "source": [
        "df['dias'] = df.index"
      ],
      "execution_count": 30,
      "outputs": []
    },
    {
      "cell_type": "code",
      "metadata": {
        "id": "Y0Fe6J2U1jX5",
        "colab_type": "code",
        "colab": {
          "base_uri": "https://localhost:8080/",
          "height": 34
        },
        "outputId": "8572d6e6-b960-47e7-f08d-e98cb96f6b19"
      },
      "source": [
        "df.columns"
      ],
      "execution_count": 31,
      "outputs": [
        {
          "output_type": "execute_result",
          "data": {
            "text/plain": [
              "Index(['High', 'Low', 'Open', 'Close', 'Volume', 'Adj Close', 'dias'], dtype='object')"
            ]
          },
          "metadata": {
            "tags": []
          },
          "execution_count": 31
        }
      ]
    },
    {
      "cell_type": "code",
      "metadata": {
        "id": "8PprF6gwAf3S",
        "colab_type": "code",
        "colab": {
          "base_uri": "https://localhost:8080/",
          "height": 151
        },
        "outputId": "79fb3c12-e312-4a5a-f8f7-14eded128717"
      },
      "source": [
        "df.dtypes"
      ],
      "execution_count": 32,
      "outputs": [
        {
          "output_type": "execute_result",
          "data": {
            "text/plain": [
              "High                float64\n",
              "Low                 float64\n",
              "Open                float64\n",
              "Close               float64\n",
              "Volume                int64\n",
              "Adj Close           float64\n",
              "dias         datetime64[ns]\n",
              "dtype: object"
            ]
          },
          "metadata": {
            "tags": []
          },
          "execution_count": 32
        }
      ]
    },
    {
      "cell_type": "code",
      "metadata": {
        "id": "N_L9U1IkAuER",
        "colab_type": "code",
        "colab": {}
      },
      "source": [
        "#df['Date'] = pd.to_datetime(df['Timestamp'],unit='s').dt.Date"
      ],
      "execution_count": 33,
      "outputs": []
    },
    {
      "cell_type": "code",
      "metadata": {
        "id": "UY0WFbObA8ji",
        "colab_type": "code",
        "colab": {
          "base_uri": "https://localhost:8080/",
          "height": 34
        },
        "outputId": "aeaddebb-6043-45cb-b256-4cac77cd9639"
      },
      "source": [
        "group = df.groupby('Date')\n",
        "group"
      ],
      "execution_count": 34,
      "outputs": [
        {
          "output_type": "execute_result",
          "data": {
            "text/plain": [
              "<pandas.core.groupby.generic.DataFrameGroupBy object at 0x7f48efb755c0>"
            ]
          },
          "metadata": {
            "tags": []
          },
          "execution_count": 34
        }
      ]
    },
    {
      "cell_type": "code",
      "metadata": {
        "id": "jBf3QnMwAr9g",
        "colab_type": "code",
        "colab": {
          "base_uri": "https://localhost:8080/",
          "height": 235
        },
        "outputId": "886190f2-9279-40b6-c38d-6fdb203ca10c"
      },
      "source": [
        "Real_Price = group['Close'].mean()\n",
        "Real_Price"
      ],
      "execution_count": 35,
      "outputs": [
        {
          "output_type": "execute_result",
          "data": {
            "text/plain": [
              "Date\n",
              "2020-04-01     60.150002\n",
              "2020-04-02     64.250000\n",
              "2020-04-03     65.050003\n",
              "2020-04-06     63.950001\n",
              "2020-04-07     62.900002\n",
              "                 ...    \n",
              "2020-09-02    125.849998\n",
              "2020-09-03    125.699997\n",
              "2020-09-04    126.099998\n",
              "2020-09-07    129.949997\n",
              "2020-09-08    128.100006\n",
              "Name: Close, Length: 107, dtype: float64"
            ]
          },
          "metadata": {
            "tags": []
          },
          "execution_count": 35
        }
      ]
    },
    {
      "cell_type": "markdown",
      "metadata": {
        "id": "jN9frxr1SCrC",
        "colab_type": "text"
      },
      "source": [
        "<h1> Días de prediccon"
      ]
    },
    {
      "cell_type": "code",
      "metadata": {
        "id": "Ay7lOG5OCAkI",
        "colab_type": "code",
        "colab": {}
      },
      "source": [
        "prediction_days = 15"
      ],
      "execution_count": 36,
      "outputs": []
    },
    {
      "cell_type": "code",
      "metadata": {
        "id": "OuCZjsOdC-ih",
        "colab_type": "code",
        "colab": {
          "base_uri": "https://localhost:8080/",
          "height": 431
        },
        "outputId": "381dd8f0-ca8a-429f-8b4b-ffa045b00239"
      },
      "source": [
        "Real_Price_Frame=pd.DataFrame(Real_Price)\n",
        "Real_Price_Frame"
      ],
      "execution_count": 37,
      "outputs": [
        {
          "output_type": "execute_result",
          "data": {
            "text/html": [
              "<div>\n",
              "<style scoped>\n",
              "    .dataframe tbody tr th:only-of-type {\n",
              "        vertical-align: middle;\n",
              "    }\n",
              "\n",
              "    .dataframe tbody tr th {\n",
              "        vertical-align: top;\n",
              "    }\n",
              "\n",
              "    .dataframe thead th {\n",
              "        text-align: right;\n",
              "    }\n",
              "</style>\n",
              "<table border=\"1\" class=\"dataframe\">\n",
              "  <thead>\n",
              "    <tr style=\"text-align: right;\">\n",
              "      <th></th>\n",
              "      <th>Close</th>\n",
              "    </tr>\n",
              "    <tr>\n",
              "      <th>Date</th>\n",
              "      <th></th>\n",
              "    </tr>\n",
              "  </thead>\n",
              "  <tbody>\n",
              "    <tr>\n",
              "      <th>2020-04-01</th>\n",
              "      <td>60.150002</td>\n",
              "    </tr>\n",
              "    <tr>\n",
              "      <th>2020-04-02</th>\n",
              "      <td>64.250000</td>\n",
              "    </tr>\n",
              "    <tr>\n",
              "      <th>2020-04-03</th>\n",
              "      <td>65.050003</td>\n",
              "    </tr>\n",
              "    <tr>\n",
              "      <th>2020-04-06</th>\n",
              "      <td>63.950001</td>\n",
              "    </tr>\n",
              "    <tr>\n",
              "      <th>2020-04-07</th>\n",
              "      <td>62.900002</td>\n",
              "    </tr>\n",
              "    <tr>\n",
              "      <th>...</th>\n",
              "      <td>...</td>\n",
              "    </tr>\n",
              "    <tr>\n",
              "      <th>2020-09-02</th>\n",
              "      <td>125.849998</td>\n",
              "    </tr>\n",
              "    <tr>\n",
              "      <th>2020-09-03</th>\n",
              "      <td>125.699997</td>\n",
              "    </tr>\n",
              "    <tr>\n",
              "      <th>2020-09-04</th>\n",
              "      <td>126.099998</td>\n",
              "    </tr>\n",
              "    <tr>\n",
              "      <th>2020-09-07</th>\n",
              "      <td>129.949997</td>\n",
              "    </tr>\n",
              "    <tr>\n",
              "      <th>2020-09-08</th>\n",
              "      <td>128.100006</td>\n",
              "    </tr>\n",
              "  </tbody>\n",
              "</table>\n",
              "<p>107 rows × 1 columns</p>\n",
              "</div>"
            ],
            "text/plain": [
              "                 Close\n",
              "Date                  \n",
              "2020-04-01   60.150002\n",
              "2020-04-02   64.250000\n",
              "2020-04-03   65.050003\n",
              "2020-04-06   63.950001\n",
              "2020-04-07   62.900002\n",
              "...                ...\n",
              "2020-09-02  125.849998\n",
              "2020-09-03  125.699997\n",
              "2020-09-04  126.099998\n",
              "2020-09-07  129.949997\n",
              "2020-09-08  128.100006\n",
              "\n",
              "[107 rows x 1 columns]"
            ]
          },
          "metadata": {
            "tags": []
          },
          "execution_count": 37
        }
      ]
    },
    {
      "cell_type": "code",
      "metadata": {
        "id": "crhDOoTmDiBB",
        "colab_type": "code",
        "colab": {
          "base_uri": "https://localhost:8080/",
          "height": 235
        },
        "outputId": "5d6f9b01-3404-4071-b4ca-1f775c53638e"
      },
      "source": [
        "Real_Price_Frame['Close']"
      ],
      "execution_count": 38,
      "outputs": [
        {
          "output_type": "execute_result",
          "data": {
            "text/plain": [
              "Date\n",
              "2020-04-01     60.150002\n",
              "2020-04-02     64.250000\n",
              "2020-04-03     65.050003\n",
              "2020-04-06     63.950001\n",
              "2020-04-07     62.900002\n",
              "                 ...    \n",
              "2020-09-02    125.849998\n",
              "2020-09-03    125.699997\n",
              "2020-09-04    126.099998\n",
              "2020-09-07    129.949997\n",
              "2020-09-08    128.100006\n",
              "Name: Close, Length: 107, dtype: float64"
            ]
          },
          "metadata": {
            "tags": []
          },
          "execution_count": 38
        }
      ]
    },
    {
      "cell_type": "code",
      "metadata": {
        "id": "c0YYB75KCTAD",
        "colab_type": "code",
        "colab": {
          "base_uri": "https://localhost:8080/",
          "height": 302
        },
        "outputId": "39b5d450-ee03-46ad-98fa-b7afa642a8aa"
      },
      "source": [
        "# Últimos  días para entrenar\n",
        "Real_Price[len(Real_Price)-prediction_days:]"
      ],
      "execution_count": 39,
      "outputs": [
        {
          "output_type": "execute_result",
          "data": {
            "text/plain": [
              "Date\n",
              "2020-08-19    138.199997\n",
              "2020-08-20    137.800003\n",
              "2020-08-21    135.800003\n",
              "2020-08-24    135.199997\n",
              "2020-08-25    133.949997\n",
              "2020-08-26    130.250000\n",
              "2020-08-27    124.800003\n",
              "2020-08-28    133.050003\n",
              "2020-08-31    133.350006\n",
              "2020-09-01    131.949997\n",
              "2020-09-02    125.849998\n",
              "2020-09-03    125.699997\n",
              "2020-09-04    126.099998\n",
              "2020-09-07    129.949997\n",
              "2020-09-08    128.100006\n",
              "Name: Close, dtype: float64"
            ]
          },
          "metadata": {
            "tags": []
          },
          "execution_count": 39
        }
      ]
    },
    {
      "cell_type": "code",
      "metadata": {
        "id": "dO0_ZEomETbi",
        "colab_type": "code",
        "colab": {
          "base_uri": "https://localhost:8080/",
          "height": 235
        },
        "outputId": "b967a733-7364-4e27-a526-7678f4bb41ac"
      },
      "source": [
        "# Resto de años para test\n",
        "Real_Price[:len(Real_Price)-prediction_days]"
      ],
      "execution_count": 40,
      "outputs": [
        {
          "output_type": "execute_result",
          "data": {
            "text/plain": [
              "Date\n",
              "2020-04-01     60.150002\n",
              "2020-04-02     64.250000\n",
              "2020-04-03     65.050003\n",
              "2020-04-06     63.950001\n",
              "2020-04-07     62.900002\n",
              "                 ...    \n",
              "2020-08-11    154.750000\n",
              "2020-08-12    149.350006\n",
              "2020-08-13    149.949997\n",
              "2020-08-14    145.050003\n",
              "2020-08-18    137.300003\n",
              "Name: Close, Length: 92, dtype: float64"
            ]
          },
          "metadata": {
            "tags": []
          },
          "execution_count": 40
        }
      ]
    },
    {
      "cell_type": "code",
      "metadata": {
        "id": "WMhZBjn1R_I8",
        "colab_type": "code",
        "colab": {
          "base_uri": "https://localhost:8080/",
          "height": 302
        },
        "outputId": "a3f6cc6a-925d-4731-908a-89ea91265e19"
      },
      "source": [
        "Real_Price[len(Real_Price)-prediction_days:]"
      ],
      "execution_count": 41,
      "outputs": [
        {
          "output_type": "execute_result",
          "data": {
            "text/plain": [
              "Date\n",
              "2020-08-19    138.199997\n",
              "2020-08-20    137.800003\n",
              "2020-08-21    135.800003\n",
              "2020-08-24    135.199997\n",
              "2020-08-25    133.949997\n",
              "2020-08-26    130.250000\n",
              "2020-08-27    124.800003\n",
              "2020-08-28    133.050003\n",
              "2020-08-31    133.350006\n",
              "2020-09-01    131.949997\n",
              "2020-09-02    125.849998\n",
              "2020-09-03    125.699997\n",
              "2020-09-04    126.099998\n",
              "2020-09-07    129.949997\n",
              "2020-09-08    128.100006\n",
              "Name: Close, dtype: float64"
            ]
          },
          "metadata": {
            "tags": []
          },
          "execution_count": 41
        }
      ]
    },
    {
      "cell_type": "code",
      "metadata": {
        "id": "Gl1mRJN4AlbI",
        "colab_type": "code",
        "colab": {}
      },
      "source": [
        "# split data\n",
        "df_train= Real_Price[len(Real_Price)-prediction_days:]\n",
        "df_test= Real_Price[:len(Real_Price)-prediction_days]"
      ],
      "execution_count": 42,
      "outputs": []
    },
    {
      "cell_type": "code",
      "metadata": {
        "id": "tr1rm1DoEuIK",
        "colab_type": "code",
        "colab": {
          "base_uri": "https://localhost:8080/",
          "height": 84
        },
        "outputId": "218fd457-20b6-4381-f7f8-3718aa0b886b"
      },
      "source": [
        "# Selecciono valores\n",
        "training_set = df_train.values\n",
        "training_set"
      ],
      "execution_count": 43,
      "outputs": [
        {
          "output_type": "execute_result",
          "data": {
            "text/plain": [
              "array([138.19999695, 137.80000305, 135.80000305, 135.19999695,\n",
              "       133.94999695, 130.25      , 124.80000305, 133.05000305,\n",
              "       133.3500061 , 131.94999695, 125.84999847, 125.69999695,\n",
              "       126.09999847, 129.94999695, 128.1000061 ])"
            ]
          },
          "metadata": {
            "tags": []
          },
          "execution_count": 43
        }
      ]
    },
    {
      "cell_type": "code",
      "metadata": {
        "id": "4MUFSycCEtz8",
        "colab_type": "code",
        "colab": {
          "base_uri": "https://localhost:8080/",
          "height": 269
        },
        "outputId": "1cad1c6c-6e18-41fe-ef61-9907921da07e"
      },
      "source": [
        "training_set = np.reshape(training_set, (len(training_set), 1))\n",
        "training_set"
      ],
      "execution_count": 44,
      "outputs": [
        {
          "output_type": "execute_result",
          "data": {
            "text/plain": [
              "array([[138.19999695],\n",
              "       [137.80000305],\n",
              "       [135.80000305],\n",
              "       [135.19999695],\n",
              "       [133.94999695],\n",
              "       [130.25      ],\n",
              "       [124.80000305],\n",
              "       [133.05000305],\n",
              "       [133.3500061 ],\n",
              "       [131.94999695],\n",
              "       [125.84999847],\n",
              "       [125.69999695],\n",
              "       [126.09999847],\n",
              "       [129.94999695],\n",
              "       [128.1000061 ]])"
            ]
          },
          "metadata": {
            "tags": []
          },
          "execution_count": 44
        }
      ]
    },
    {
      "cell_type": "code",
      "metadata": {
        "id": "_ElbR-OVEs2D",
        "colab_type": "code",
        "colab": {}
      },
      "source": [
        "# Data preprocess\n",
        "from sklearn.preprocessing import MinMaxScaler\n",
        "sc = MinMaxScaler()"
      ],
      "execution_count": 45,
      "outputs": []
    },
    {
      "cell_type": "code",
      "metadata": {
        "id": "EabuR9YeF0EW",
        "colab_type": "code",
        "colab": {
          "base_uri": "https://localhost:8080/",
          "height": 470
        },
        "outputId": "3abf3c36-8ac9-4bd7-b987-239e3a80be9d"
      },
      "source": [
        "# Excluímos último día\n",
        "x_train = training_set[0:len(training_set)-1]\n",
        "x_train = sc.fit_transform(x_train)\n",
        "x_train = np.reshape(x_train, (len(x_train), 1, 1))\n",
        "x_train\n"
      ],
      "execution_count": 46,
      "outputs": [
        {
          "output_type": "execute_result",
          "data": {
            "text/plain": [
              "array([[[1.        ]],\n",
              "\n",
              "       [[0.9701497 ]],\n",
              "\n",
              "       [[0.8208959 ]],\n",
              "\n",
              "       [[0.7761193 ]],\n",
              "\n",
              "       [[0.68283568]],\n",
              "\n",
              "       [[0.40671638]],\n",
              "\n",
              "       [[0.        ]],\n",
              "\n",
              "       [[0.61567192]],\n",
              "\n",
              "       [[0.63806022]],\n",
              "\n",
              "       [[0.53358188]],\n",
              "\n",
              "       [[0.0783579 ]],\n",
              "\n",
              "       [[0.06716375]],\n",
              "\n",
              "       [[0.09701463]],\n",
              "\n",
              "       [[0.38432808]]])"
            ]
          },
          "metadata": {
            "tags": []
          },
          "execution_count": 46
        }
      ]
    },
    {
      "cell_type": "code",
      "metadata": {
        "id": "FaTqG0wCF7mL",
        "colab_type": "code",
        "colab": {
          "base_uri": "https://localhost:8080/",
          "height": 252
        },
        "outputId": "a2ff932d-e40a-4912-ae5b-034e6f05697c"
      },
      "source": [
        "# Excluímos primer día\n",
        "y_train = training_set[1:len(training_set)]\n",
        "y_train = sc.fit_transform(y_train)\n",
        "y_train"
      ],
      "execution_count": 47,
      "outputs": [
        {
          "output_type": "execute_result",
          "data": {
            "text/plain": [
              "array([[1.        ],\n",
              "       [0.84615385],\n",
              "       [0.79999953],\n",
              "       [0.70384568],\n",
              "       [0.41923053],\n",
              "       [0.        ],\n",
              "       [0.63461538],\n",
              "       [0.65769254],\n",
              "       [0.54999953],\n",
              "       [0.08076888],\n",
              "       [0.0692303 ],\n",
              "       [0.09999965],\n",
              "       [0.39615338],\n",
              "       [0.25384639]])"
            ]
          },
          "metadata": {
            "tags": []
          },
          "execution_count": 47
        }
      ]
    },
    {
      "cell_type": "code",
      "metadata": {
        "colab_type": "code",
        "id": "3-kwWb9ELdG7",
        "colab": {}
      },
      "source": [
        "#Build the LSTM network model\n",
        "model = Sequential()\n",
        "model.add(LSTM(units=50, return_sequences=True,input_shape=(x_train.shape[1],1)))\n",
        "model.add(LSTM(units=50, return_sequences=False))\n",
        "model.add(Dense(units=25))\n",
        "model.add(Dense(units=1))"
      ],
      "execution_count": 48,
      "outputs": []
    },
    {
      "cell_type": "code",
      "metadata": {
        "colab_type": "code",
        "id": "eku1ArqJLdHF",
        "colab": {}
      },
      "source": [
        "#Compile the model\n",
        "model.compile(optimizer='adam', loss='mean_squared_error')"
      ],
      "execution_count": 49,
      "outputs": []
    },
    {
      "cell_type": "code",
      "metadata": {
        "colab_type": "code",
        "id": "j1api37GLdHL",
        "colab": {
          "base_uri": "https://localhost:8080/",
          "height": 538
        },
        "outputId": "2e3ea072-42c7-45c4-b644-a37261fb7fb5"
      },
      "source": [
        "#Train the model\n",
        "model.fit(x_train, y_train, batch_size=1, epochs=15)"
      ],
      "execution_count": 50,
      "outputs": [
        {
          "output_type": "stream",
          "text": [
            "Epoch 1/15\n",
            "14/14 [==============================] - 0s 3ms/step - loss: 0.2510\n",
            "Epoch 2/15\n",
            "14/14 [==============================] - 0s 2ms/step - loss: 0.1488\n",
            "Epoch 3/15\n",
            "14/14 [==============================] - 0s 2ms/step - loss: 0.0871\n",
            "Epoch 4/15\n",
            "14/14 [==============================] - 0s 2ms/step - loss: 0.0787\n",
            "Epoch 5/15\n",
            "14/14 [==============================] - 0s 2ms/step - loss: 0.0759\n",
            "Epoch 6/15\n",
            "14/14 [==============================] - 0s 2ms/step - loss: 0.0728\n",
            "Epoch 7/15\n",
            "14/14 [==============================] - 0s 2ms/step - loss: 0.0695\n",
            "Epoch 8/15\n",
            "14/14 [==============================] - 0s 2ms/step - loss: 0.0678\n",
            "Epoch 9/15\n",
            "14/14 [==============================] - 0s 2ms/step - loss: 0.0670\n",
            "Epoch 10/15\n",
            "14/14 [==============================] - 0s 2ms/step - loss: 0.0665\n",
            "Epoch 11/15\n",
            "14/14 [==============================] - 0s 2ms/step - loss: 0.0608\n",
            "Epoch 12/15\n",
            "14/14 [==============================] - 0s 2ms/step - loss: 0.0601\n",
            "Epoch 13/15\n",
            "14/14 [==============================] - 0s 2ms/step - loss: 0.0588\n",
            "Epoch 14/15\n",
            "14/14 [==============================] - 0s 2ms/step - loss: 0.0559\n",
            "Epoch 15/15\n",
            "14/14 [==============================] - 0s 2ms/step - loss: 0.0566\n"
          ],
          "name": "stdout"
        },
        {
          "output_type": "execute_result",
          "data": {
            "text/plain": [
              "<tensorflow.python.keras.callbacks.History at 0x7f48e9f12d30>"
            ]
          },
          "metadata": {
            "tags": []
          },
          "execution_count": 50
        }
      ]
    },
    {
      "cell_type": "code",
      "metadata": {
        "id": "SUyvkSqhdZIg",
        "colab_type": "code",
        "colab": {
          "base_uri": "https://localhost:8080/",
          "height": 235
        },
        "outputId": "a5dcdaa1-7563-4bf3-d51d-60bc6f51bea4"
      },
      "source": [
        "Real_Price[:len(Real_Price)]"
      ],
      "execution_count": 51,
      "outputs": [
        {
          "output_type": "execute_result",
          "data": {
            "text/plain": [
              "Date\n",
              "2020-04-01     60.150002\n",
              "2020-04-02     64.250000\n",
              "2020-04-03     65.050003\n",
              "2020-04-06     63.950001\n",
              "2020-04-07     62.900002\n",
              "                 ...    \n",
              "2020-09-02    125.849998\n",
              "2020-09-03    125.699997\n",
              "2020-09-04    126.099998\n",
              "2020-09-07    129.949997\n",
              "2020-09-08    128.100006\n",
              "Name: Close, Length: 107, dtype: float64"
            ]
          },
          "metadata": {
            "tags": []
          },
          "execution_count": 51
        }
      ]
    },
    {
      "cell_type": "code",
      "metadata": {
        "id": "EN21OA3jBQED",
        "colab_type": "code",
        "colab": {
          "base_uri": "https://localhost:8080/",
          "height": 34
        },
        "outputId": "9a108445-9671-4b74-ab66-66f422ffb37c"
      },
      "source": [
        "#Lunes\n",
        "df_test= Real_Price[:len(Real_Price)-10]\n",
        "\n",
        "test_set = df_test.values[1:] #next day and follow\n",
        "\n",
        "inputs = np.reshape(df_test.values[0:len(df_test)-1], (len(test_set), 1)) #until to the day\n",
        "inputs = sc.fit_transform(inputs)\n",
        "np.reshape(inputs, (len(inputs), 1, 1))\n",
        "inputs = np.reshape(inputs, (len(inputs), 1, 1))\n",
        "predicted_BTC_price = model.predict(inputs)\n",
        "predicted_BTC_price = sc.inverse_transform(predicted_BTC_price)\n",
        "\n",
        "#Calculate/Get the value of RMSE\n",
        "RMSE=np.sqrt(np.mean(((predicted_BTC_price- test_set)**2)))\n",
        "unormse=np.sqrt(np.mean(((predicted_BTC_price[-1]- test_set[-1])**2)))\n",
        "\n",
        "\n",
        "#Calculate/Get the value of RMSE\n",
        "dosrmse=np.sqrt(np.mean(((predicted_BTC_price[0]- test_set[0])**2)))\n",
        "\n",
        "(predicted_BTC_price[-1]-(RMSE-dosrmse))\n",
        "predicted_BTC_price[-1]"
      ],
      "execution_count": 52,
      "outputs": [
        {
          "output_type": "execute_result",
          "data": {
            "text/plain": [
              "array([122.762726], dtype=float32)"
            ]
          },
          "metadata": {
            "tags": []
          },
          "execution_count": 52
        }
      ]
    },
    {
      "cell_type": "code",
      "metadata": {
        "id": "nJdw9lIuErK_",
        "colab_type": "code",
        "colab": {
          "base_uri": "https://localhost:8080/",
          "height": 34
        },
        "outputId": "3c9deadf-c701-4dc1-986e-a3eed78d85d9"
      },
      "source": [
        "np.sqrt(np.mean(((predicted_BTC_price- test_set)**2)))"
      ],
      "execution_count": 53,
      "outputs": [
        {
          "output_type": "execute_result",
          "data": {
            "text/plain": [
              "31.253880319925926"
            ]
          },
          "metadata": {
            "tags": []
          },
          "execution_count": 53
        }
      ]
    },
    {
      "cell_type": "code",
      "metadata": {
        "id": "GoL4lFq5EswM",
        "colab_type": "code",
        "colab": {
          "base_uri": "https://localhost:8080/",
          "height": 420
        },
        "outputId": "c648db0c-0d15-46fd-9913-9af553169a70"
      },
      "source": [
        "test_set"
      ],
      "execution_count": 54,
      "outputs": [
        {
          "output_type": "execute_result",
          "data": {
            "text/plain": [
              "array([ 64.25      ,  65.05000305,  63.95000076,  62.90000153,\n",
              "        67.59999847,  70.30000305,  77.09999847,  82.84999847,\n",
              "        79.59999847,  75.84999847,  78.15000153,  75.59999847,\n",
              "        74.65000153,  71.59999847,  68.30000305,  69.75      ,\n",
              "        81.5       ,  82.55000305,  80.65000153,  81.44999695,\n",
              "        83.55000305,  86.55000305,  94.        ,  94.34999847,\n",
              "       104.75      , 105.90000153,  99.75      , 104.5       ,\n",
              "       102.84999847, 106.65000153, 101.94999695, 104.80000305,\n",
              "       111.        , 109.34999847, 108.69999695, 107.65000153,\n",
              "       100.30000305,  93.15000153,  99.55000305, 107.94999695,\n",
              "       117.34999847, 117.44999695, 121.25      , 133.5       ,\n",
              "       126.09999847, 127.80000305, 116.59999847, 119.59999847,\n",
              "       116.84999847, 109.94999695, 102.59999847, 113.94999695,\n",
              "       110.15000153, 111.84999847, 110.5       , 116.25      ,\n",
              "       110.40000153, 109.80000305, 103.19999695, 105.94999695,\n",
              "       102.44999695, 104.        , 122.55000305, 119.90000153,\n",
              "       120.94999695, 126.15000153, 127.90000153, 131.8999939 ,\n",
              "       132.05000305, 131.6000061 , 129.5       , 134.69999695,\n",
              "       143.1499939 , 143.05000305, 144.94999695, 150.8999939 ,\n",
              "       146.1000061 , 145.94999695, 147.1000061 , 149.3500061 ,\n",
              "       164.69999695, 159.69999695, 154.55000305, 156.6000061 ,\n",
              "       162.1499939 , 158.94999695, 154.75      , 149.3500061 ,\n",
              "       149.94999695, 145.05000305, 137.30000305, 138.19999695,\n",
              "       137.80000305, 135.80000305, 135.19999695, 133.94999695])"
            ]
          },
          "metadata": {
            "tags": []
          },
          "execution_count": 54
        }
      ]
    },
    {
      "cell_type": "code",
      "metadata": {
        "id": "yPeN1RhaBpbl",
        "colab_type": "code",
        "colab": {
          "base_uri": "https://localhost:8080/",
          "height": 34
        },
        "outputId": "85443649-d2a4-4c87-865f-085bbcf28c6b"
      },
      "source": [
        "#Martes\n",
        "df_test= Real_Price[:len(Real_Price)-11]\n",
        "\n",
        "test_set = df_test.values[1:] #next day and follow\n",
        "\n",
        "inputs = np.reshape(df_test.values[0:len(df_test)-1], (len(test_set), 1)) #until to the day\n",
        "inputs = sc.fit_transform(inputs)\n",
        "np.reshape(inputs, (len(inputs), 1, 1))\n",
        "inputs = np.reshape(inputs, (len(inputs), 1, 1))\n",
        "predicted_BTC_price = model.predict(inputs)\n",
        "predicted_BTC_price = sc.inverse_transform(predicted_BTC_price)\n",
        "\n",
        "#Calculate/Get the value of RMSE\n",
        "unormse=np.sqrt(np.mean(((predicted_BTC_price[-1]- test_set[-1])**2)))\n",
        "\n",
        "\n",
        "#Calculate/Get the value of RMSE\n",
        "dosrmse=np.sqrt(np.mean(((predicted_BTC_price[0]- test_set[0])**2)))\n",
        "\n",
        "\n",
        "trermse=(dosrmse+unormse)/2\n",
        "\n",
        "predt1=predicted_BTC_price[-1]-trermse\n",
        "predt2=predicted_BTC_price[-1]-dosrmse-unormse\n",
        "(predt1+predt2)/2"
      ],
      "execution_count": 55,
      "outputs": [
        {
          "output_type": "execute_result",
          "data": {
            "text/plain": [
              "array([100.47811], dtype=float32)"
            ]
          },
          "metadata": {
            "tags": []
          },
          "execution_count": 55
        }
      ]
    },
    {
      "cell_type": "code",
      "metadata": {
        "id": "mNokrBZ0B1kb",
        "colab_type": "code",
        "colab": {
          "base_uri": "https://localhost:8080/",
          "height": 34
        },
        "outputId": "33904ba1-0fc7-4c08-e371-4bfb03549cbd"
      },
      "source": [
        "#Martes\n",
        "df_test= Real_Price[:len(Real_Price)-12]\n",
        "\n",
        "test_set = df_test.values[1:] #next day and follow\n",
        "\n",
        "inputs = np.reshape(df_test.values[0:len(df_test)-1], (len(test_set), 1)) #until to the day\n",
        "inputs = sc.fit_transform(inputs)\n",
        "np.reshape(inputs, (len(inputs), 1, 1))\n",
        "inputs = np.reshape(inputs, (len(inputs), 1, 1))\n",
        "predicted_BTC_price = model.predict(inputs)\n",
        "predicted_BTC_price = sc.inverse_transform(predicted_BTC_price)\n",
        "\n",
        "#Calculate/Get the value of RMSE\n",
        "unormse=np.sqrt(np.mean(((predicted_BTC_price[-1]- test_set[-1])**2)))\n",
        "\n",
        "\n",
        "#Calculate/Get the value of RMSE\n",
        "dosrmse=np.sqrt(np.mean(((predicted_BTC_price[0]- test_set[0])**2)))\n",
        "\n",
        "\n",
        "trermse=(dosrmse+unormse)/2\n",
        "\n",
        "predt1=predicted_BTC_price[-1]-trermse\n",
        "predt2=predicted_BTC_price[-1]-dosrmse-unormse\n",
        "(predt1+predt2)/2"
      ],
      "execution_count": null,
      "outputs": [
        {
          "output_type": "execute_result",
          "data": {
            "text/plain": [
              "array([123.37463], dtype=float32)"
            ]
          },
          "metadata": {
            "tags": []
          },
          "execution_count": 276
        }
      ]
    },
    {
      "cell_type": "markdown",
      "metadata": {
        "id": "VjE83CDz9vJw",
        "colab_type": "text"
      },
      "source": [
        "<h1> Predict"
      ]
    },
    {
      "cell_type": "code",
      "metadata": {
        "id": "6Kag3ZS4HFpR",
        "colab_type": "code",
        "colab": {
          "base_uri": "https://localhost:8080/",
          "height": 34
        },
        "outputId": "8b14ecb8-400f-4973-b6b7-475656a0c9be"
      },
      "source": [
        "predicted_BTC_price[-1]"
      ],
      "execution_count": null,
      "outputs": [
        {
          "output_type": "execute_result",
          "data": {
            "text/plain": [
              "array([10179.047], dtype=float32)"
            ]
          },
          "metadata": {
            "tags": []
          },
          "execution_count": 53
        }
      ]
    },
    {
      "cell_type": "code",
      "metadata": {
        "id": "GRoaJe-zJAcI",
        "colab_type": "code",
        "colab": {
          "base_uri": "https://localhost:8080/",
          "height": 954
        },
        "outputId": "fa461582-e370-4528-c508-090ee17043db"
      },
      "source": [
        "# Visualising the results\n",
        "plt.figure(figsize=(25,15), dpi=80, facecolor='w', edgecolor='k')\n",
        "ax = plt.gca()  \n",
        "plt.plot(test_set, color = 'red', label = 'Real BTC Price')\n",
        "plt.plot(predicted_BTC_price, color = 'blue', label = 'Predicted BTC Price')\n",
        "plt.title('BTC Price Prediction', fontsize=40)\n",
        "df_test= Real_Price[:len(Real_Price)]\n",
        "df_test = df_test.reset_index()\n",
        "x=df_test.index\n",
        "labels = df_test['Date']\n",
        "plt.xticks(x, labels, rotation = 'vertical')\n",
        "for tick in ax.xaxis.get_major_ticks():\n",
        "    tick.label1.set_fontsize(18)\n",
        "for tick in ax.yaxis.get_major_ticks():\n",
        "    tick.label1.set_fontsize(18)\n",
        "plt.xlabel('Date', fontsize=40)\n",
        "plt.ylabel('BTC Price(USD)', fontsize=40)\n",
        "plt.legend(loc=2, prop={'size': 25})\n",
        "plt.show()\n",
        "\n",
        "\n"
      ],
      "execution_count": 56,
      "outputs": [
        {
          "output_type": "display_data",
          "data": {
            "image/png": "[encoded data removed]",
            "text/plain": [
              "<Figure size 2000x1200 with 1 Axes>"
            ]
          },
          "metadata": {
            "tags": []
          }
        }
      ]
    },
    {
      "cell_type": "markdown",
      "metadata": {
        "id": "yLh8r5I0KSnm",
        "colab_type": "text"
      },
      "source": [
        "Grafico"
      ]
    }
  ]
}