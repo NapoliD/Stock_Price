{
  "nbformat": 4,
  "nbformat_minor": 0,
  "metadata": {
    "colab": {
      "name": "Original Stock_Price_.ipynb",
      "provenance": [],
      "collapsed_sections": [],
      "authorship_tag": "ABX9TyMuUFKrLiKnkSF2GQyxcPyG",
      "include_colab_link": true
    },
    "kernelspec": {
      "name": "python3",
      "display_name": "Python 3"
    }
  },
  "cells": [
    {
      "cell_type": "markdown",
      "metadata": {
        "id": "view-in-github",
        "colab_type": "text"
      },
      "source": [
        "<a href=\"https://colab.research.google.com/github/NapoliD/Stock_Price/blob/master/Original_Stock_Price_.ipynb\" target=\"_parent\"><img src=\"https://colab.research.google.com/assets/colab-badge.svg\" alt=\"Open In Colab\"/></a>"
      ]
    },
    {
      "cell_type": "markdown",
      "metadata": {
        "id": "5IB4Xx3qI0bO",
        "colab_type": "text"
      },
      "source": [
        "https://medium.com/@randerson112358/stock-price-prediction-using-python-machine-learning-e82a039ac2bb"
      ]
    },
    {
      "cell_type": "markdown",
      "metadata": {
        "id": "C90o8wKrB0DC",
        "colab_type": "text"
      },
      "source": [
        "https://www.kaggle.com/mczielinski/bitcoin-historical-data"
      ]
    },
    {
      "cell_type": "markdown",
      "metadata": {
        "id": "ODkcdrBeI0Y8",
        "colab_type": "text"
      },
      "source": [
        ""
      ]
    },
    {
      "cell_type": "code",
      "metadata": {
        "id": "L4KP4l9czpMq",
        "colab_type": "code",
        "colab": {
          "base_uri": "https://localhost:8080/",
          "height": 121
        },
        "outputId": "c9b80747-337d-4efe-b81f-b0871b33f382"
      },
      "source": [
        "from google.colab import drive\n",
        "drive.mount('/content/drive/') "
      ],
      "execution_count": null,
      "outputs": [
        {
          "output_type": "stream",
          "text": [
            "Go to this URL in a browser: https://accounts.google.com/o/oauth2/auth?client_id=947318989803-6bn6qk8qdgf4n4g3pfee6491hc0brc4i.apps.googleusercontent.com&redirect_uri=urn%3aietf%3awg%3aoauth%3a2.0%3aoob&scope=email%20https%3a%2f%2fwww.googleapis.com%2fauth%2fdocs.test%20https%3a%2f%2fwww.googleapis.com%2fauth%2fdrive%20https%3a%2f%2fwww.googleapis.com%2fauth%2fdrive.photos.readonly%20https%3a%2f%2fwww.googleapis.com%2fauth%2fpeopleapi.readonly&response_type=code\n",
            "\n",
            "Enter your authorization code:\n",
            "··········\n",
            "Mounted at /content/drive/\n"
          ],
          "name": "stdout"
        }
      ]
    },
    {
      "cell_type": "code",
      "metadata": {
        "id": "mjT3qp75zpr4",
        "colab_type": "code",
        "colab": {}
      },
      "source": [
        "import os\n",
        "os.chdir('/content/drive/My Drive/GOOGLE_COLAB/Stock_Price/')"
      ],
      "execution_count": null,
      "outputs": []
    },
    {
      "cell_type": "code",
      "metadata": {
        "id": "YGHTbauxI0Gn",
        "colab_type": "code",
        "colab": {
          "base_uri": "https://localhost:8080/",
          "height": 70
        },
        "outputId": "ca105fac-6334-446b-c7ec-60e1971a20ac"
      },
      "source": [
        "#Import the libraries\n",
        "import math\n",
        "import pandas_datareader as web\n",
        "import numpy as np\n",
        "import pandas as pd\n",
        "from sklearn.preprocessing import MinMaxScaler\n",
        "from keras.models import Sequential\n",
        "from keras.layers import Dense, LSTM\n",
        "import matplotlib.pyplot as plt\n",
        "plt.style.use('fivethirtyeight')\n",
        "\n"
      ],
      "execution_count": 2,
      "outputs": [
        {
          "output_type": "stream",
          "text": [
            "/usr/local/lib/python3.6/dist-packages/pandas_datareader/compat/__init__.py:7: FutureWarning: pandas.util.testing is deprecated. Use the functions in the public API at pandas.testing instead.\n",
            "  from pandas.util.testing import assert_frame_equal\n"
          ],
          "name": "stderr"
        }
      ]
    },
    {
      "cell_type": "markdown",
      "metadata": {
        "id": "M66IGFYpKJsM",
        "colab_type": "text"
      },
      "source": [
        "Acciones grupo galicia"
      ]
    },
    {
      "cell_type": "code",
      "metadata": {
        "id": "XONXvyPrI0Df",
        "colab_type": "code",
        "colab": {}
      },
      "source": [
        "#df = web.DataReader('AAPL', data_source='yahoo', start='2012-01-01', end='2019-12-17')\n",
        "df = web.DataReader('GGAL.BA', data_source='yahoo', start='2020-04-01', end='2020-09-14')\n",
        "#df = web.DataReader('BTC-USD', data_source='yahoo', start='2019-01-01', end='2020-09-07')"
      ],
      "execution_count": null,
      "outputs": []
    },
    {
      "cell_type": "code",
      "metadata": {
        "id": "aGIx9wIqy3fb",
        "colab_type": "code",
        "colab": {
          "base_uri": "https://localhost:8080/",
          "height": 431
        },
        "outputId": "a1e6f85e-f4fc-475b-e622-d4d4ad89d35a"
      },
      "source": [
        "df\n"
      ],
      "execution_count": 4,
      "outputs": [
        {
          "output_type": "execute_result",
          "data": {
            "text/html": [
              "<div>\n",
              "<style scoped>\n",
              "    .dataframe tbody tr th:only-of-type {\n",
              "        vertical-align: middle;\n",
              "    }\n",
              "\n",
              "    .dataframe tbody tr th {\n",
              "        vertical-align: top;\n",
              "    }\n",
              "\n",
              "    .dataframe thead th {\n",
              "        text-align: right;\n",
              "    }\n",
              "</style>\n",
              "<table border=\"1\" class=\"dataframe\">\n",
              "  <thead>\n",
              "    <tr style=\"text-align: right;\">\n",
              "      <th></th>\n",
              "      <th>High</th>\n",
              "      <th>Low</th>\n",
              "      <th>Open</th>\n",
              "      <th>Close</th>\n",
              "      <th>Volume</th>\n",
              "      <th>Adj Close</th>\n",
              "    </tr>\n",
              "    <tr>\n",
              "      <th>Date</th>\n",
              "      <th></th>\n",
              "      <th></th>\n",
              "      <th></th>\n",
              "      <th></th>\n",
              "      <th></th>\n",
              "      <th></th>\n",
              "    </tr>\n",
              "  </thead>\n",
              "  <tbody>\n",
              "    <tr>\n",
              "      <th>2020-04-01</th>\n",
              "      <td>61.250000</td>\n",
              "      <td>59.700001</td>\n",
              "      <td>60.099998</td>\n",
              "      <td>60.150002</td>\n",
              "      <td>668231</td>\n",
              "      <td>60.150002</td>\n",
              "    </tr>\n",
              "    <tr>\n",
              "      <th>2020-04-02</th>\n",
              "      <td>64.500000</td>\n",
              "      <td>59.150002</td>\n",
              "      <td>59.650002</td>\n",
              "      <td>64.250000</td>\n",
              "      <td>2168156</td>\n",
              "      <td>64.250000</td>\n",
              "    </tr>\n",
              "    <tr>\n",
              "      <th>2020-04-03</th>\n",
              "      <td>65.300003</td>\n",
              "      <td>62.000000</td>\n",
              "      <td>64.000000</td>\n",
              "      <td>65.050003</td>\n",
              "      <td>1552567</td>\n",
              "      <td>65.050003</td>\n",
              "    </tr>\n",
              "    <tr>\n",
              "      <th>2020-04-06</th>\n",
              "      <td>65.300003</td>\n",
              "      <td>63.500000</td>\n",
              "      <td>63.599998</td>\n",
              "      <td>63.950001</td>\n",
              "      <td>1224565</td>\n",
              "      <td>63.950001</td>\n",
              "    </tr>\n",
              "    <tr>\n",
              "      <th>2020-04-07</th>\n",
              "      <td>67.300003</td>\n",
              "      <td>61.849998</td>\n",
              "      <td>66.150002</td>\n",
              "      <td>62.900002</td>\n",
              "      <td>2257214</td>\n",
              "      <td>62.900002</td>\n",
              "    </tr>\n",
              "    <tr>\n",
              "      <th>...</th>\n",
              "      <td>...</td>\n",
              "      <td>...</td>\n",
              "      <td>...</td>\n",
              "      <td>...</td>\n",
              "      <td>...</td>\n",
              "      <td>...</td>\n",
              "    </tr>\n",
              "    <tr>\n",
              "      <th>2020-09-08</th>\n",
              "      <td>129.899994</td>\n",
              "      <td>123.900002</td>\n",
              "      <td>126.949997</td>\n",
              "      <td>128.100006</td>\n",
              "      <td>2097432</td>\n",
              "      <td>128.100006</td>\n",
              "    </tr>\n",
              "    <tr>\n",
              "      <th>2020-09-09</th>\n",
              "      <td>131.750000</td>\n",
              "      <td>127.800003</td>\n",
              "      <td>129.500000</td>\n",
              "      <td>131.449997</td>\n",
              "      <td>1927942</td>\n",
              "      <td>131.449997</td>\n",
              "    </tr>\n",
              "    <tr>\n",
              "      <th>2020-09-10</th>\n",
              "      <td>135.250000</td>\n",
              "      <td>132.000000</td>\n",
              "      <td>132.500000</td>\n",
              "      <td>133.199997</td>\n",
              "      <td>3701218</td>\n",
              "      <td>133.199997</td>\n",
              "    </tr>\n",
              "    <tr>\n",
              "      <th>2020-09-11</th>\n",
              "      <td>132.449997</td>\n",
              "      <td>126.699997</td>\n",
              "      <td>132.449997</td>\n",
              "      <td>127.599998</td>\n",
              "      <td>3142345</td>\n",
              "      <td>127.599998</td>\n",
              "    </tr>\n",
              "    <tr>\n",
              "      <th>2020-09-14</th>\n",
              "      <td>126.599998</td>\n",
              "      <td>119.000000</td>\n",
              "      <td>126.599998</td>\n",
              "      <td>121.650002</td>\n",
              "      <td>3583762</td>\n",
              "      <td>121.650002</td>\n",
              "    </tr>\n",
              "  </tbody>\n",
              "</table>\n",
              "<p>111 rows × 6 columns</p>\n",
              "</div>"
            ],
            "text/plain": [
              "                  High         Low        Open       Close   Volume   Adj Close\n",
              "Date                                                                           \n",
              "2020-04-01   61.250000   59.700001   60.099998   60.150002   668231   60.150002\n",
              "2020-04-02   64.500000   59.150002   59.650002   64.250000  2168156   64.250000\n",
              "2020-04-03   65.300003   62.000000   64.000000   65.050003  1552567   65.050003\n",
              "2020-04-06   65.300003   63.500000   63.599998   63.950001  1224565   63.950001\n",
              "2020-04-07   67.300003   61.849998   66.150002   62.900002  2257214   62.900002\n",
              "...                ...         ...         ...         ...      ...         ...\n",
              "2020-09-08  129.899994  123.900002  126.949997  128.100006  2097432  128.100006\n",
              "2020-09-09  131.750000  127.800003  129.500000  131.449997  1927942  131.449997\n",
              "2020-09-10  135.250000  132.000000  132.500000  133.199997  3701218  133.199997\n",
              "2020-09-11  132.449997  126.699997  132.449997  127.599998  3142345  127.599998\n",
              "2020-09-14  126.599998  119.000000  126.599998  121.650002  3583762  121.650002\n",
              "\n",
              "[111 rows x 6 columns]"
            ]
          },
          "metadata": {
            "tags": []
          },
          "execution_count": 4
        }
      ]
    },
    {
      "cell_type": "code",
      "metadata": {
        "id": "BOA7tRiO2Zx7",
        "colab_type": "code",
        "colab": {}
      },
      "source": [
        "df['dias'] = df.index"
      ],
      "execution_count": 5,
      "outputs": []
    },
    {
      "cell_type": "code",
      "metadata": {
        "id": "Y0Fe6J2U1jX5",
        "colab_type": "code",
        "colab": {
          "base_uri": "https://localhost:8080/",
          "height": 34
        },
        "outputId": "b28b2860-1e52-4ce6-aff8-4033a1f8a78a"
      },
      "source": [
        "df.columns"
      ],
      "execution_count": 6,
      "outputs": [
        {
          "output_type": "execute_result",
          "data": {
            "text/plain": [
              "Index(['High', 'Low', 'Open', 'Close', 'Volume', 'Adj Close', 'dias'], dtype='object')"
            ]
          },
          "metadata": {
            "tags": []
          },
          "execution_count": 6
        }
      ]
    },
    {
      "cell_type": "code",
      "metadata": {
        "id": "8PprF6gwAf3S",
        "colab_type": "code",
        "colab": {
          "base_uri": "https://localhost:8080/",
          "height": 151
        },
        "outputId": "35ad4209-0204-4e24-aad6-363097e585f1"
      },
      "source": [
        "df.dtypes"
      ],
      "execution_count": 7,
      "outputs": [
        {
          "output_type": "execute_result",
          "data": {
            "text/plain": [
              "High                float64\n",
              "Low                 float64\n",
              "Open                float64\n",
              "Close               float64\n",
              "Volume                int64\n",
              "Adj Close           float64\n",
              "dias         datetime64[ns]\n",
              "dtype: object"
            ]
          },
          "metadata": {
            "tags": []
          },
          "execution_count": 7
        }
      ]
    },
    {
      "cell_type": "code",
      "metadata": {
        "id": "N_L9U1IkAuER",
        "colab_type": "code",
        "colab": {}
      },
      "source": [
        "#df['Date'] = pd.to_datetime(df['Timestamp'],unit='s').dt.Date"
      ],
      "execution_count": 8,
      "outputs": []
    },
    {
      "cell_type": "code",
      "metadata": {
        "id": "UY0WFbObA8ji",
        "colab_type": "code",
        "colab": {
          "base_uri": "https://localhost:8080/",
          "height": 34
        },
        "outputId": "083ab655-0f70-49e0-9390-d7481427d8a2"
      },
      "source": [
        "group = df.groupby('Date')\n",
        "group"
      ],
      "execution_count": 9,
      "outputs": [
        {
          "output_type": "execute_result",
          "data": {
            "text/plain": [
              "<pandas.core.groupby.generic.DataFrameGroupBy object at 0x7f834ef56ba8>"
            ]
          },
          "metadata": {
            "tags": []
          },
          "execution_count": 9
        }
      ]
    },
    {
      "cell_type": "code",
      "metadata": {
        "id": "jBf3QnMwAr9g",
        "colab_type": "code",
        "colab": {
          "base_uri": "https://localhost:8080/",
          "height": 235
        },
        "outputId": "f537d0f6-cb0c-4ea5-a611-0a6c82210346"
      },
      "source": [
        "Real_Price = group['Close'].mean()\n",
        "Real_Price"
      ],
      "execution_count": 10,
      "outputs": [
        {
          "output_type": "execute_result",
          "data": {
            "text/plain": [
              "Date\n",
              "2020-04-01     60.150002\n",
              "2020-04-02     64.250000\n",
              "2020-04-03     65.050003\n",
              "2020-04-06     63.950001\n",
              "2020-04-07     62.900002\n",
              "                 ...    \n",
              "2020-09-08    128.100006\n",
              "2020-09-09    131.449997\n",
              "2020-09-10    133.199997\n",
              "2020-09-11    127.599998\n",
              "2020-09-14    121.650002\n",
              "Name: Close, Length: 111, dtype: float64"
            ]
          },
          "metadata": {
            "tags": []
          },
          "execution_count": 10
        }
      ]
    },
    {
      "cell_type": "markdown",
      "metadata": {
        "id": "jN9frxr1SCrC",
        "colab_type": "text"
      },
      "source": [
        "<h1> Días de prediccon"
      ]
    },
    {
      "cell_type": "code",
      "metadata": {
        "id": "Ay7lOG5OCAkI",
        "colab_type": "code",
        "colab": {}
      },
      "source": [
        "prediction_days = 15"
      ],
      "execution_count": 11,
      "outputs": []
    },
    {
      "cell_type": "code",
      "metadata": {
        "id": "OuCZjsOdC-ih",
        "colab_type": "code",
        "colab": {
          "base_uri": "https://localhost:8080/",
          "height": 431
        },
        "outputId": "e0dc3b30-cdb9-48a7-e64f-0fc4150e5250"
      },
      "source": [
        "Real_Price_Frame=pd.DataFrame(Real_Price)\n",
        "Real_Price_Frame"
      ],
      "execution_count": 12,
      "outputs": [
        {
          "output_type": "execute_result",
          "data": {
            "text/html": [
              "<div>\n",
              "<style scoped>\n",
              "    .dataframe tbody tr th:only-of-type {\n",
              "        vertical-align: middle;\n",
              "    }\n",
              "\n",
              "    .dataframe tbody tr th {\n",
              "        vertical-align: top;\n",
              "    }\n",
              "\n",
              "    .dataframe thead th {\n",
              "        text-align: right;\n",
              "    }\n",
              "</style>\n",
              "<table border=\"1\" class=\"dataframe\">\n",
              "  <thead>\n",
              "    <tr style=\"text-align: right;\">\n",
              "      <th></th>\n",
              "      <th>Close</th>\n",
              "    </tr>\n",
              "    <tr>\n",
              "      <th>Date</th>\n",
              "      <th></th>\n",
              "    </tr>\n",
              "  </thead>\n",
              "  <tbody>\n",
              "    <tr>\n",
              "      <th>2020-04-01</th>\n",
              "      <td>60.150002</td>\n",
              "    </tr>\n",
              "    <tr>\n",
              "      <th>2020-04-02</th>\n",
              "      <td>64.250000</td>\n",
              "    </tr>\n",
              "    <tr>\n",
              "      <th>2020-04-03</th>\n",
              "      <td>65.050003</td>\n",
              "    </tr>\n",
              "    <tr>\n",
              "      <th>2020-04-06</th>\n",
              "      <td>63.950001</td>\n",
              "    </tr>\n",
              "    <tr>\n",
              "      <th>2020-04-07</th>\n",
              "      <td>62.900002</td>\n",
              "    </tr>\n",
              "    <tr>\n",
              "      <th>...</th>\n",
              "      <td>...</td>\n",
              "    </tr>\n",
              "    <tr>\n",
              "      <th>2020-09-08</th>\n",
              "      <td>128.100006</td>\n",
              "    </tr>\n",
              "    <tr>\n",
              "      <th>2020-09-09</th>\n",
              "      <td>131.449997</td>\n",
              "    </tr>\n",
              "    <tr>\n",
              "      <th>2020-09-10</th>\n",
              "      <td>133.199997</td>\n",
              "    </tr>\n",
              "    <tr>\n",
              "      <th>2020-09-11</th>\n",
              "      <td>127.599998</td>\n",
              "    </tr>\n",
              "    <tr>\n",
              "      <th>2020-09-14</th>\n",
              "      <td>121.650002</td>\n",
              "    </tr>\n",
              "  </tbody>\n",
              "</table>\n",
              "<p>111 rows × 1 columns</p>\n",
              "</div>"
            ],
            "text/plain": [
              "                 Close\n",
              "Date                  \n",
              "2020-04-01   60.150002\n",
              "2020-04-02   64.250000\n",
              "2020-04-03   65.050003\n",
              "2020-04-06   63.950001\n",
              "2020-04-07   62.900002\n",
              "...                ...\n",
              "2020-09-08  128.100006\n",
              "2020-09-09  131.449997\n",
              "2020-09-10  133.199997\n",
              "2020-09-11  127.599998\n",
              "2020-09-14  121.650002\n",
              "\n",
              "[111 rows x 1 columns]"
            ]
          },
          "metadata": {
            "tags": []
          },
          "execution_count": 12
        }
      ]
    },
    {
      "cell_type": "code",
      "metadata": {
        "id": "crhDOoTmDiBB",
        "colab_type": "code",
        "colab": {
          "base_uri": "https://localhost:8080/",
          "height": 235
        },
        "outputId": "484b09e8-295d-479f-bf44-05230dbe264d"
      },
      "source": [
        "Real_Price_Frame['Close']"
      ],
      "execution_count": 13,
      "outputs": [
        {
          "output_type": "execute_result",
          "data": {
            "text/plain": [
              "Date\n",
              "2020-04-01     60.150002\n",
              "2020-04-02     64.250000\n",
              "2020-04-03     65.050003\n",
              "2020-04-06     63.950001\n",
              "2020-04-07     62.900002\n",
              "                 ...    \n",
              "2020-09-08    128.100006\n",
              "2020-09-09    131.449997\n",
              "2020-09-10    133.199997\n",
              "2020-09-11    127.599998\n",
              "2020-09-14    121.650002\n",
              "Name: Close, Length: 111, dtype: float64"
            ]
          },
          "metadata": {
            "tags": []
          },
          "execution_count": 13
        }
      ]
    },
    {
      "cell_type": "code",
      "metadata": {
        "id": "c0YYB75KCTAD",
        "colab_type": "code",
        "colab": {
          "base_uri": "https://localhost:8080/",
          "height": 302
        },
        "outputId": "4eebcb8e-626e-42e2-bc33-8c495c0e468b"
      },
      "source": [
        "# Últimos  días para entrenar\n",
        "Real_Price[len(Real_Price)-prediction_days:]"
      ],
      "execution_count": 14,
      "outputs": [
        {
          "output_type": "execute_result",
          "data": {
            "text/plain": [
              "Date\n",
              "2020-08-25    133.949997\n",
              "2020-08-26    130.250000\n",
              "2020-08-27    124.800003\n",
              "2020-08-28    133.050003\n",
              "2020-08-31    133.350006\n",
              "2020-09-01    131.949997\n",
              "2020-09-02    125.849998\n",
              "2020-09-03    125.699997\n",
              "2020-09-04    126.099998\n",
              "2020-09-07    129.949997\n",
              "2020-09-08    128.100006\n",
              "2020-09-09    131.449997\n",
              "2020-09-10    133.199997\n",
              "2020-09-11    127.599998\n",
              "2020-09-14    121.650002\n",
              "Name: Close, dtype: float64"
            ]
          },
          "metadata": {
            "tags": []
          },
          "execution_count": 14
        }
      ]
    },
    {
      "cell_type": "code",
      "metadata": {
        "id": "dO0_ZEomETbi",
        "colab_type": "code",
        "colab": {
          "base_uri": "https://localhost:8080/",
          "height": 235
        },
        "outputId": "593037c8-548c-4241-ee38-dcf2d8158e8d"
      },
      "source": [
        "# Resto de años para test\n",
        "Real_Price[:len(Real_Price)-prediction_days]"
      ],
      "execution_count": 15,
      "outputs": [
        {
          "output_type": "execute_result",
          "data": {
            "text/plain": [
              "Date\n",
              "2020-04-01     60.150002\n",
              "2020-04-02     64.250000\n",
              "2020-04-03     65.050003\n",
              "2020-04-06     63.950001\n",
              "2020-04-07     62.900002\n",
              "                 ...    \n",
              "2020-08-18    137.300003\n",
              "2020-08-19    138.199997\n",
              "2020-08-20    137.800003\n",
              "2020-08-21    135.800003\n",
              "2020-08-24    135.199997\n",
              "Name: Close, Length: 96, dtype: float64"
            ]
          },
          "metadata": {
            "tags": []
          },
          "execution_count": 15
        }
      ]
    },
    {
      "cell_type": "code",
      "metadata": {
        "id": "WMhZBjn1R_I8",
        "colab_type": "code",
        "colab": {
          "base_uri": "https://localhost:8080/",
          "height": 302
        },
        "outputId": "65081394-5a6a-4ece-c007-74913c9ffef5"
      },
      "source": [
        "Real_Price[len(Real_Price)-prediction_days:]"
      ],
      "execution_count": 16,
      "outputs": [
        {
          "output_type": "execute_result",
          "data": {
            "text/plain": [
              "Date\n",
              "2020-08-25    133.949997\n",
              "2020-08-26    130.250000\n",
              "2020-08-27    124.800003\n",
              "2020-08-28    133.050003\n",
              "2020-08-31    133.350006\n",
              "2020-09-01    131.949997\n",
              "2020-09-02    125.849998\n",
              "2020-09-03    125.699997\n",
              "2020-09-04    126.099998\n",
              "2020-09-07    129.949997\n",
              "2020-09-08    128.100006\n",
              "2020-09-09    131.449997\n",
              "2020-09-10    133.199997\n",
              "2020-09-11    127.599998\n",
              "2020-09-14    121.650002\n",
              "Name: Close, dtype: float64"
            ]
          },
          "metadata": {
            "tags": []
          },
          "execution_count": 16
        }
      ]
    },
    {
      "cell_type": "code",
      "metadata": {
        "id": "Gl1mRJN4AlbI",
        "colab_type": "code",
        "colab": {}
      },
      "source": [
        "# split data\n",
        "df_train= Real_Price[len(Real_Price)-prediction_days:]\n",
        "df_test= Real_Price[:len(Real_Price)-prediction_days]"
      ],
      "execution_count": 17,
      "outputs": []
    },
    {
      "cell_type": "code",
      "metadata": {
        "id": "tr1rm1DoEuIK",
        "colab_type": "code",
        "colab": {
          "base_uri": "https://localhost:8080/",
          "height": 84
        },
        "outputId": "2a5c165e-dcfb-4dd3-a000-bb597c6e4d23"
      },
      "source": [
        "# Selecciono valores\n",
        "training_set = df_train.values\n",
        "training_set"
      ],
      "execution_count": 18,
      "outputs": [
        {
          "output_type": "execute_result",
          "data": {
            "text/plain": [
              "array([133.94999695, 130.25      , 124.80000305, 133.05000305,\n",
              "       133.3500061 , 131.94999695, 125.84999847, 125.69999695,\n",
              "       126.09999847, 129.94999695, 128.1000061 , 131.44999695,\n",
              "       133.19999695, 127.59999847, 121.65000153])"
            ]
          },
          "metadata": {
            "tags": []
          },
          "execution_count": 18
        }
      ]
    },
    {
      "cell_type": "code",
      "metadata": {
        "id": "4MUFSycCEtz8",
        "colab_type": "code",
        "colab": {
          "base_uri": "https://localhost:8080/",
          "height": 269
        },
        "outputId": "4ced1e63-2dd9-43a0-8690-688210b770cd"
      },
      "source": [
        "training_set = np.reshape(training_set, (len(training_set), 1))\n",
        "training_set"
      ],
      "execution_count": 19,
      "outputs": [
        {
          "output_type": "execute_result",
          "data": {
            "text/plain": [
              "array([[133.94999695],\n",
              "       [130.25      ],\n",
              "       [124.80000305],\n",
              "       [133.05000305],\n",
              "       [133.3500061 ],\n",
              "       [131.94999695],\n",
              "       [125.84999847],\n",
              "       [125.69999695],\n",
              "       [126.09999847],\n",
              "       [129.94999695],\n",
              "       [128.1000061 ],\n",
              "       [131.44999695],\n",
              "       [133.19999695],\n",
              "       [127.59999847],\n",
              "       [121.65000153]])"
            ]
          },
          "metadata": {
            "tags": []
          },
          "execution_count": 19
        }
      ]
    },
    {
      "cell_type": "code",
      "metadata": {
        "id": "_ElbR-OVEs2D",
        "colab_type": "code",
        "colab": {}
      },
      "source": [
        "# Data preprocess\n",
        "from sklearn.preprocessing import MinMaxScaler\n",
        "sc = MinMaxScaler()"
      ],
      "execution_count": 20,
      "outputs": []
    },
    {
      "cell_type": "code",
      "metadata": {
        "id": "EabuR9YeF0EW",
        "colab_type": "code",
        "colab": {
          "base_uri": "https://localhost:8080/",
          "height": 470
        },
        "outputId": "f568e76a-d42a-4a9f-cc6e-7cc16ce3d1ca"
      },
      "source": [
        "# Excluímos último día\n",
        "x_train = training_set[0:len(training_set)-1]\n",
        "x_train = sc.fit_transform(x_train)\n",
        "x_train = np.reshape(x_train, (len(x_train), 1, 1))\n",
        "x_train\n"
      ],
      "execution_count": 21,
      "outputs": [
        {
          "output_type": "execute_result",
          "data": {
            "text/plain": [
              "array([[[1.        ]],\n",
              "\n",
              "       [[0.59562848]],\n",
              "\n",
              "       [[0.        ]],\n",
              "\n",
              "       [[0.90163995]],\n",
              "\n",
              "       [[0.93442719]],\n",
              "\n",
              "       [[0.78142062]],\n",
              "\n",
              "       [[0.11475367]],\n",
              "\n",
              "       [[0.09836005]],\n",
              "\n",
              "       [[0.1420761 ]],\n",
              "\n",
              "       [[0.56284124]],\n",
              "\n",
              "       [[0.36065631]],\n",
              "\n",
              "       [[0.72677577]],\n",
              "\n",
              "       [[0.91803273]],\n",
              "\n",
              "       [[0.30601063]]])"
            ]
          },
          "metadata": {
            "tags": []
          },
          "execution_count": 21
        }
      ]
    },
    {
      "cell_type": "code",
      "metadata": {
        "id": "FaTqG0wCF7mL",
        "colab_type": "code",
        "colab": {
          "base_uri": "https://localhost:8080/",
          "height": 252
        },
        "outputId": "e6d2894f-5426-4e76-aa1c-4f430d060f33"
      },
      "source": [
        "# Excluímos primer día\n",
        "y_train = training_set[1:len(training_set)]\n",
        "y_train = sc.fit_transform(y_train)\n",
        "y_train"
      ],
      "execution_count": 22,
      "outputs": [
        {
          "output_type": "execute_result",
          "data": {
            "text/plain": [
              "array([[0.73504232],\n",
              "       [0.26923079],\n",
              "       [0.97435872],\n",
              "       [1.        ],\n",
              "       [0.88034114],\n",
              "       [0.35897396],\n",
              "       [0.34615332],\n",
              "       [0.38034147],\n",
              "       [0.70940104],\n",
              "       [0.55128223],\n",
              "       [0.83760612],\n",
              "       [0.98717871],\n",
              "       [0.50854655],\n",
              "       [0.        ]])"
            ]
          },
          "metadata": {
            "tags": []
          },
          "execution_count": 22
        }
      ]
    },
    {
      "cell_type": "code",
      "metadata": {
        "colab_type": "code",
        "id": "3-kwWb9ELdG7",
        "colab": {}
      },
      "source": [
        "#Build the LSTM network model\n",
        "model = Sequential()\n",
        "model.add(LSTM(units=50, return_sequences=True,input_shape=(x_train.shape[1],1)))\n",
        "model.add(LSTM(units=50, return_sequences=False))\n",
        "model.add(Dense(units=25))\n",
        "model.add(Dense(units=1))"
      ],
      "execution_count": 23,
      "outputs": []
    },
    {
      "cell_type": "code",
      "metadata": {
        "colab_type": "code",
        "id": "eku1ArqJLdHF",
        "colab": {}
      },
      "source": [
        "#Compile the model\n",
        "model.compile(optimizer='adam', loss='mean_squared_error')"
      ],
      "execution_count": 24,
      "outputs": []
    },
    {
      "cell_type": "code",
      "metadata": {
        "colab_type": "code",
        "id": "j1api37GLdHL",
        "colab": {
          "base_uri": "https://localhost:8080/",
          "height": 538
        },
        "outputId": "d4c48d96-ade8-4832-f9c4-d8c75676a423"
      },
      "source": [
        "#Train the model\n",
        "model.fit(x_train, y_train, batch_size=1, epochs=15)"
      ],
      "execution_count": 25,
      "outputs": [
        {
          "output_type": "stream",
          "text": [
            "Epoch 1/15\n",
            "14/14 [==============================] - 0s 2ms/step - loss: 0.3833\n",
            "Epoch 2/15\n",
            "14/14 [==============================] - 0s 2ms/step - loss: 0.2197\n",
            "Epoch 3/15\n",
            "14/14 [==============================] - 0s 2ms/step - loss: 0.1072\n",
            "Epoch 4/15\n",
            "14/14 [==============================] - 0s 2ms/step - loss: 0.0846\n",
            "Epoch 5/15\n",
            "14/14 [==============================] - 0s 2ms/step - loss: 0.0898\n",
            "Epoch 6/15\n",
            "14/14 [==============================] - 0s 2ms/step - loss: 0.0874\n",
            "Epoch 7/15\n",
            "14/14 [==============================] - 0s 2ms/step - loss: 0.0890\n",
            "Epoch 8/15\n",
            "14/14 [==============================] - 0s 2ms/step - loss: 0.0883\n",
            "Epoch 9/15\n",
            "14/14 [==============================] - 0s 2ms/step - loss: 0.0868\n",
            "Epoch 10/15\n",
            "14/14 [==============================] - 0s 2ms/step - loss: 0.0869\n",
            "Epoch 11/15\n",
            "14/14 [==============================] - 0s 2ms/step - loss: 0.0893\n",
            "Epoch 12/15\n",
            "14/14 [==============================] - 0s 2ms/step - loss: 0.0907\n",
            "Epoch 13/15\n",
            "14/14 [==============================] - 0s 2ms/step - loss: 0.0888\n",
            "Epoch 14/15\n",
            "14/14 [==============================] - 0s 2ms/step - loss: 0.0888\n",
            "Epoch 15/15\n",
            "14/14 [==============================] - 0s 2ms/step - loss: 0.0892\n"
          ],
          "name": "stdout"
        },
        {
          "output_type": "execute_result",
          "data": {
            "text/plain": [
              "<tensorflow.python.keras.callbacks.History at 0x7f83482bc6d8>"
            ]
          },
          "metadata": {
            "tags": []
          },
          "execution_count": 25
        }
      ]
    },
    {
      "cell_type": "code",
      "metadata": {
        "id": "SUyvkSqhdZIg",
        "colab_type": "code",
        "colab": {
          "base_uri": "https://localhost:8080/",
          "height": 235
        },
        "outputId": "a5dcdaa1-7563-4bf3-d51d-60bc6f51bea4"
      },
      "source": [
        "Real_Price[:len(Real_Price)]"
      ],
      "execution_count": null,
      "outputs": [
        {
          "output_type": "execute_result",
          "data": {
            "text/plain": [
              "Date\n",
              "2020-04-01     60.150002\n",
              "2020-04-02     64.250000\n",
              "2020-04-03     65.050003\n",
              "2020-04-06     63.950001\n",
              "2020-04-07     62.900002\n",
              "                 ...    \n",
              "2020-09-02    125.849998\n",
              "2020-09-03    125.699997\n",
              "2020-09-04    126.099998\n",
              "2020-09-07    129.949997\n",
              "2020-09-08    128.100006\n",
              "Name: Close, Length: 107, dtype: float64"
            ]
          },
          "metadata": {
            "tags": []
          },
          "execution_count": 51
        }
      ]
    },
    {
      "cell_type": "code",
      "metadata": {
        "id": "EN21OA3jBQED",
        "colab_type": "code",
        "colab": {
          "base_uri": "https://localhost:8080/",
          "height": 34
        },
        "outputId": "95c0531f-9cdc-4a15-dcfd-a0628e90fbc0"
      },
      "source": [
        "#Lunes\n",
        "df_test= Real_Price[:len(Real_Price)-10]\n",
        "\n",
        "test_set = df_test.values[1:] #next day and follow\n",
        "\n",
        "inputs = np.reshape(df_test.values[0:len(df_test)-1], (len(test_set), 1)) #until to the day\n",
        "inputs = sc.fit_transform(inputs)\n",
        "np.reshape(inputs, (len(inputs), 1, 1))\n",
        "inputs = np.reshape(inputs, (len(inputs), 1, 1))\n",
        "predicted_BTC_price = model.predict(inputs)\n",
        "predicted_BTC_price = sc.inverse_transform(predicted_BTC_price)\n",
        "\n",
        "#Calculate/Get the value of RMSE\n",
        "RMSE=np.sqrt(np.mean(((predicted_BTC_price- test_set)**2)))\n",
        "\n",
        "predicted_BTC_price[-1]"
      ],
      "execution_count": 28,
      "outputs": [
        {
          "output_type": "execute_result",
          "data": {
            "text/plain": [
              "array([129.12025], dtype=float32)"
            ]
          },
          "metadata": {
            "tags": []
          },
          "execution_count": 28
        }
      ]
    },
    {
      "cell_type": "code",
      "metadata": {
        "id": "jPT9yQjKM_dD",
        "colab_type": "code",
        "colab": {
          "base_uri": "https://localhost:8080/",
          "height": 34
        },
        "outputId": "28226ea3-c0c6-4aa9-a827-ec95e249231d"
      },
      "source": [
        "RMSE"
      ],
      "execution_count": 33,
      "outputs": [
        {
          "output_type": "execute_result",
          "data": {
            "text/plain": [
              "29.55280218677219"
            ]
          },
          "metadata": {
            "tags": []
          },
          "execution_count": 33
        }
      ]
    },
    {
      "cell_type": "code",
      "metadata": {
        "id": "nJdw9lIuErK_",
        "colab_type": "code",
        "colab": {}
      },
      "source": [
        "from sklearn.metrics import mean_squared_error"
      ],
      "execution_count": 30,
      "outputs": []
    },
    {
      "cell_type": "code",
      "metadata": {
        "id": "JkkOxWTHMTk9",
        "colab_type": "code",
        "colab": {
          "base_uri": "https://localhost:8080/",
          "height": 34
        },
        "outputId": "f3d59535-3b4c-48d5-b5db-d34bee864447"
      },
      "source": [
        "mean_squared_error(predicted_BTC_price,test_set)"
      ],
      "execution_count": 34,
      "outputs": [
        {
          "output_type": "execute_result",
          "data": {
            "text/plain": [
              "545.041613210172"
            ]
          },
          "metadata": {
            "tags": []
          },
          "execution_count": 34
        }
      ]
    },
    {
      "cell_type": "markdown",
      "metadata": {
        "id": "VjE83CDz9vJw",
        "colab_type": "text"
      },
      "source": [
        "<h1> Predict"
      ]
    },
    {
      "cell_type": "code",
      "metadata": {
        "id": "6Kag3ZS4HFpR",
        "colab_type": "code",
        "colab": {
          "base_uri": "https://localhost:8080/",
          "height": 34
        },
        "outputId": "8b14ecb8-400f-4973-b6b7-475656a0c9be"
      },
      "source": [
        "predicted_BTC_price[-1]"
      ],
      "execution_count": null,
      "outputs": [
        {
          "output_type": "execute_result",
          "data": {
            "text/plain": [
              "array([10179.047], dtype=float32)"
            ]
          },
          "metadata": {
            "tags": []
          },
          "execution_count": 53
        }
      ]
    },
    {
      "cell_type": "code",
      "metadata": {
        "id": "GRoaJe-zJAcI",
        "colab_type": "code",
        "colab": {
          "base_uri": "https://localhost:8080/",
          "height": 1000
        },
        "outputId": "a4964442-3263-40ed-8a40-2331eb84e736"
      },
      "source": [
        "# Visualising the results\n",
        "plt.figure(figsize=(25,15), dpi=80, facecolor='w', edgecolor='k')\n",
        "ax = plt.gca()  \n",
        "plt.plot(test_set, color = 'red', label = 'Real Price')\n",
        "plt.plot(predicted_BTC_price, color = 'blue', label = 'Predicted  Price')\n",
        "plt.title('BTC Price Prediction', fontsize=40)\n",
        "df_test= Real_Price[:len(Real_Price)]\n",
        "df_test = df_test.reset_index()\n",
        "x=df_test.index\n",
        "labels = df_test['Date']\n",
        "plt.xticks(x, labels, rotation = 'vertical')\n",
        "for tick in ax.xaxis.get_major_ticks():\n",
        "    tick.label1.set_fontsize(18)\n",
        "for tick in ax.yaxis.get_major_ticks():\n",
        "    tick.label1.set_fontsize(18)\n",
        "plt.xlabel('Date', fontsize=40)\n",
        "plt.ylabel('BTC Price(USD)', fontsize=40)\n",
        "plt.legend(loc=2, prop={'size': 25})\n",
        "plt.show()\n",
        "\n",
        "\n"
      ],
      "execution_count": 35,
      "outputs": [
        {
          "output_type": "display_data",
          "data": {
            "image/png": "[encoded data removed]",
            "text/plain": [
              "<Figure size 2000x1200 with 1 Axes>"
            ]
          },
          "metadata": {
            "tags": []
          }
        }
      ]
    },
    {
      "cell_type": "markdown",
      "metadata": {
        "id": "yLh8r5I0KSnm",
        "colab_type": "text"
      },
      "source": [
        "Grafico"
      ]
    }
  ]
}